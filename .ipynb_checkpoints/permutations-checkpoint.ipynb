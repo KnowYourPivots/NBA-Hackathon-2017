{
 "cells": [
  {
   "cell_type": "code",
   "execution_count": 8,
   "metadata": {},
   "outputs": [
    {
     "data": {
      "text/plain": [
       "array([  1.,   2.,   3.,   4.,   5.,   6.,   7.,   8.,   9.,  10.,  11.,\n",
       "        12.,  13.,  14.,  15.,  16.,  17.,  18.,  19.,  20.,  21.,  22.,\n",
       "        23.,  24.,  25.])"
      ]
     },
     "execution_count": 8,
     "metadata": {},
     "output_type": "execute_result"
    }
   ],
   "source": [
    "import itertools\n",
    "import numpy as np\n",
    "games = np.linspace(1,25,25)\n",
    "consecutive_losses = []\n",
    "games"
   ]
  },
  {
   "cell_type": "code",
   "execution_count": 9,
   "metadata": {
    "collapsed": true
   },
   "outputs": [],
   "source": [
    "for value in games:\n",
    "    percent = 0\n",
    "    toss3 = map(''.join, itertools.product('WL', repeat=int(value)))\n",
    "    toss3_pairs = list(itertools.product(toss3, repeat=1))\n",
    "    for i in toss3_pairs:\n",
    "        if 'LL' in i[0]:\n",
    "            percent = percent + (0.2 ** i[0].count('L') * 0.8**(int(value) - i[0].count('L')))\n",
    "    consecutive_losses.append(percent)"
   ]
  },
  {
   "cell_type": "code",
   "execution_count": 10,
   "metadata": {},
   "outputs": [
    {
     "data": {
      "text/plain": [
       "[0,\n",
       " 0.04000000000000001,\n",
       " 0.07200000000000002,\n",
       " 0.10400000000000005,\n",
       " 0.13472000000000006,\n",
       " 0.164416,\n",
       " 0.19308799999999998,\n",
       " 0.2207769599999998,\n",
       " 0.24751564800000053,\n",
       " 0.27333683200000153,\n",
       " 0.29827196927999955,\n",
       " 0.32235146854400865,\n",
       " 0.34560468992000665,\n",
       " 0.3680599869030047,\n",
       " 0.3897447399097213,\n",
       " 0.41068538983228836,\n",
       " 0.43090747025085435,\n",
       " 0.45043563857313085,\n",
       " 0.4692937060989997,\n",
       " 0.487504667050909,\n",
       " 0.5050907266065999,\n",
       " 0.5220733280115881,\n",
       " 0.5384731786877988,\n",
       " 0.5543102753989403,\n",
       " 0.5696039288587443]"
      ]
     },
     "execution_count": 10,
     "metadata": {},
     "output_type": "execute_result"
    }
   ],
   "source": [
    "consecutive_losses"
   ]
  },
  {
   "cell_type": "code",
   "execution_count": null,
   "metadata": {
    "collapsed": true
   },
   "outputs": [],
   "source": [
    "# we are aware that eventually as n-> infinity, the probability of consecutive losses has to -> 1\n",
    "games.append()"
   ]
  },
  {
   "cell_type": "code",
   "execution_count": 11,
   "metadata": {},
   "outputs": [
    {
     "data": {
      "image/png": "[encoded data removed]",
      "text/plain": [
       "<matplotlib.figure.Figure at 0x23231484748>"
      ]
     },
     "metadata": {},
     "output_type": "display_data"
    }
   ],
   "source": [
    "import matplotlib.pyplot as plt\n",
    "%matplotlib inline\n",
    "z = np.polyfit(games, consecutive_losses, 3)\n",
    "p = np.poly1d(z)\n",
    "xp = np.linspace(1, 41, 41)\n",
    "_ = plt.plot(games, consecutive_losses, '.', xp, p(xp), '-',)\n",
    "plt.ylim(0,1)\n",
    "plt.show()"
   ]
  },
  {
   "cell_type": "code",
   "execution_count": 12,
   "metadata": {},
   "outputs": [
    {
     "data": {
      "text/plain": [
       "0.676066592021074"
      ]
     },
     "execution_count": 12,
     "metadata": {},
     "output_type": "execute_result"
    }
   ],
   "source": [
    "#max\n",
    "p(41)"
   ]
  }
 ],
 "metadata": {
  "kernelspec": {
   "display_name": "Python 3",
   "language": "python",
   "name": "python3"
  },
  "language_info": {
   "codemirror_mode": {
    "name": "ipython",
    "version": 3
   },
   "file_extension": ".py",
   "mimetype": "text/x-python",
   "name": "python",
   "nbconvert_exporter": "python",
   "pygments_lexer": "ipython3",
   "version": "3.6.1"
  }
 },
 "nbformat": 4,
 "nbformat_minor": 2
}
