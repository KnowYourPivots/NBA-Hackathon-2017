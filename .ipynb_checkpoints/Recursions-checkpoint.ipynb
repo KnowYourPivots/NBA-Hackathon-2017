{
 "cells": [
  {
   "cell_type": "code",
   "execution_count": null,
   "metadata": {
    "collapsed": true
   },
   "outputs": [],
   "source": [
    "# We are aware that if one game is played, it is impossible to get two losses in a row\n",
    "# Hence set F(1) = 0 where F is the probability"
   ]
  },
  {
   "cell_type": "code",
   "execution_count": null,
   "metadata": {
    "collapsed": true
   },
   "outputs": [],
   "source": [
    "# F(2) can only happen when both games are losses. Since each loss is an independent event\n",
    "# F(2) = P_L * P_L where P_L = 0.2 and P_W = 0.8"
   ]
  },
  {
   "cell_type": "code",
   "execution_count": null,
   "metadata": {
    "collapsed": true
   },
   "outputs": [],
   "source": [
    "# A function can be created to recursively calculate F(82) by checking the previous outcomes\n",
    "# since we need to have two losses in a row.\n",
    "# F(n) = P_W * F(n-1) + P_L * ( P_L + P_H * F(n-2))\n",
    "# The first part of the equation states that if game n is a win, you multiply the probability it's a win times the\n",
    "# outcome of the previous game. The second part states that if game n is a loss, you the probability it's a loss\n",
    "# times the probability that the previous game was a loss (hence two losses in a row) plus the probability that\n",
    "# two games before it was a win and thus you continue recursively."
   ]
  },
  {
   "cell_type": "code",
   "execution_count": 1,
   "metadata": {
    "collapsed": true
   },
   "outputs": [],
   "source": [
    "# Using this formula and the constants for F(1) and F(2) we can iteratively find the solution using a loop\n",
    "# In addition, the formula can be solved analytically to get F(82) directly."
   ]
  },
  {
   "cell_type": "code",
   "execution_count": 10,
   "metadata": {},
   "outputs": [
    {
     "data": {
      "text/plain": [
       "array([ 3,  4,  5,  6,  7,  8,  9, 10, 11, 12, 13, 14, 15, 16, 17, 18, 19,\n",
       "       20, 21, 22, 23, 24, 25, 26, 27, 28, 29, 30, 31, 32, 33, 34, 35, 36,\n",
       "       37, 38, 39, 40, 41, 42, 43, 44, 45, 46, 47, 48, 49, 50, 51, 52, 53,\n",
       "       54, 55, 56, 57, 58, 59, 60, 61, 62, 63, 64, 65, 66, 67, 68, 69, 70,\n",
       "       71, 72, 73, 74, 75, 76, 77, 78, 79, 80, 81, 82])"
      ]
     },
     "execution_count": 10,
     "metadata": {},
     "output_type": "execute_result"
    }
   ],
   "source": [
    "import numpy as np\n",
    "# create an iterative list from games 3 to 82 to run the formula through\n",
    "games = np.arange(3,83)\n",
    "games"
   ]
  },
  {
   "cell_type": "code",
   "execution_count": 11,
   "metadata": {
    "collapsed": true
   },
   "outputs": [],
   "source": [
    "# create a list that will store the percentage of consecutive losses and hard code the first two values\n",
    "consecutive_losses = []\n",
    "consecutive_losses.append(0)\n",
    "consecutive_losses.append(0.2*0.2)"
   ]
  },
  {
   "cell_type": "code",
   "execution_count": 12,
   "metadata": {},
   "outputs": [
    {
     "data": {
      "text/plain": [
       "[0, 0.04000000000000001]"
      ]
     },
     "execution_count": 12,
     "metadata": {},
     "output_type": "execute_result"
    }
   ],
   "source": [
    "consecutive_losses"
   ]
  },
  {
   "cell_type": "code",
   "execution_count": null,
   "metadata": {
    "collapsed": true
   },
   "outputs": [],
   "source": [
    "for game in games:\n",
    "    percent = 0\n",
    "    percent = 0.8 * \n",
    "    consecutive_losses.append(percent)\n"
   ]
  }
 ],
 "metadata": {
  "kernelspec": {
   "display_name": "Python 3",
   "language": "python",
   "name": "python3"
  },
  "language_info": {
   "codemirror_mode": {
    "name": "ipython",
    "version": 3
   },
   "file_extension": ".py",
   "mimetype": "text/x-python",
   "name": "python",
   "nbconvert_exporter": "python",
   "pygments_lexer": "ipython3",
   "version": "3.6.1"
  }
 },
 "nbformat": 4,
 "nbformat_minor": 2
}
