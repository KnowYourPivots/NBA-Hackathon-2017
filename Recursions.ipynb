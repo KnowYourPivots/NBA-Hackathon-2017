{
 "cells": [
  {
   "cell_type": "code",
   "execution_count": 3,
   "metadata": {
    "collapsed": true
   },
   "outputs": [],
   "source": [
    "# We are aware that if one game is played, it is impossible to get two losses in a row, hence set F(1) = 0 where F is the probability"
   ]
  },
  {
   "cell_type": "code",
   "execution_count": 4,
   "metadata": {
    "collapsed": true
   },
   "outputs": [],
   "source": [
    "# F(2) can only happen when both games are losses. Since each loss is an independent event. F(2) = P_L * P_L where P_L = 0.2 and P_W = 0.8"
   ]
  },
  {
   "cell_type": "code",
   "execution_count": 5,
   "metadata": {
    "collapsed": true
   },
   "outputs": [],
   "source": [
    "# A function can be created to recursively calculate F(82) by checking the previous outcomes since we need to have two losses in a row.\n",
    "# F(n) = P_W * F(n-1) + P_L * ( P_L + P_W * F(n-2))\n",
    "# The first part of the equation states that if game n is a win, you multiply the probability it's a win times the outcome of the previous game. The second part states that if game n is a loss, you the probability it's a loss times the probability that the previous game was a loss (hence two losses in a row) plus the probability that two games before it was a win and thus you continue recursively."
   ]
  },
  {
   "cell_type": "code",
   "execution_count": 6,
   "metadata": {
    "collapsed": true
   },
   "outputs": [],
   "source": [
    "# Using this formula and the constants for F(1) and F(2) we can iteratively find the solution using a loop. In addition, the formula can be solved analytically to get F(82) directly."
   ]
  },
  {
   "cell_type": "code",
   "execution_count": 7,
   "metadata": {
    "collapsed": false
   },
   "outputs": [
    {
     "data": {
      "text/plain": [
       "array([ 3,  4,  5,  6,  7,  8,  9, 10, 11, 12, 13, 14, 15, 16, 17, 18, 19,\n",
       "       20, 21, 22, 23, 24, 25, 26, 27, 28, 29, 30, 31, 32, 33, 34, 35, 36,\n",
       "       37, 38, 39, 40, 41, 42, 43, 44, 45, 46, 47, 48, 49, 50, 51, 52, 53,\n",
       "       54, 55, 56, 57, 58, 59, 60, 61, 62, 63, 64, 65, 66, 67, 68, 69, 70,\n",
       "       71, 72, 73, 74, 75, 76, 77, 78, 79, 80, 81, 82])"
      ]
     },
     "execution_count": 7,
     "metadata": {},
     "output_type": "execute_result"
    }
   ],
   "source": [
    "import numpy as np\n",
    "# create an iterative list from games 3 to 82 to run the formula through\n",
    "games = np.arange(3,83)\n",
    "games"
   ]
  },
  {
   "cell_type": "code",
   "execution_count": 8,
   "metadata": {
    "collapsed": true
   },
   "outputs": [],
   "source": [
    "# create a list that will store the percentage of consecutive losses and hard code the first two values\n",
    "consecutive_losses = []\n",
    "consecutive_losses.append(0)\n",
    "consecutive_losses.append(0.2*0.2)"
   ]
  },
  {
   "cell_type": "code",
   "execution_count": 9,
   "metadata": {
    "collapsed": false
   },
   "outputs": [
    {
     "data": {
      "text/plain": [
       "[0, 0.04000000000000001]"
      ]
     },
     "execution_count": 9,
     "metadata": {},
     "output_type": "execute_result"
    }
   ],
   "source": [
    "consecutive_losses"
   ]
  },
  {
   "cell_type": "code",
   "execution_count": 10,
   "metadata": {
    "collapsed": true
   },
   "outputs": [],
   "source": [
    "# initialize variable\n",
    "percent = 0\n",
    "for game in games:\n",
    "    # F(n) = P_W * F(n-1) + P_L * ( P_L + P_W * F(n-2))\n",
    "    percent = 0.8 * consecutive_losses[-1] + 0.2 * (0.2 + 0.8 * consecutive_losses[-2])\n",
    "    consecutive_losses.append(percent)"
   ]
  },
  {
   "cell_type": "code",
   "execution_count": 11,
   "metadata": {
    "collapsed": false
   },
   "outputs": [
    {
     "data": {
      "text/plain": [
       "[0,\n",
       " 0.04000000000000001,\n",
       " 0.07200000000000001,\n",
       " 0.10400000000000001,\n",
       " 0.13472,\n",
       " 0.164416,\n",
       " 0.193088,\n",
       " 0.22077696000000002,\n",
       " 0.24751564800000003,\n",
       " 0.27333683200000003,\n",
       " 0.29827196928000005,\n",
       " 0.3223514685440001,\n",
       " 0.3456046899200001,\n",
       " 0.36805998690304015,\n",
       " 0.38974473990963215,\n",
       " 0.41068538983219216,\n",
       " 0.4309074702512949,\n",
       " 0.45043563857418667,\n",
       " 0.46929370609955656,\n",
       " 0.4875046670515152,\n",
       " 0.5050907266171412,\n",
       " 0.5220733280219554,\n",
       " 0.538473178676307,\n",
       " 0.5543102754245585,\n",
       " 0.5696039289278559,\n",
       " 0.5843727872102141,\n",
       " 0.5986348583966283,\n",
       " 0.612407532670937,\n",
       " 0.62570760348021,\n",
       " 0.638551288011518,\n",
       " 0.650954246966048,\n",
       " 0.6629316036546813,\n",
       " 0.6744979624383127,\n",
       " 0.6856674265353992,\n",
       " 0.6964536152184495,\n",
       " 0.7068696804204235,\n",
       " 0.7169283227712908,\n",
       " 0.7266418070843004,\n",
       " 0.736021977310847,\n",
       " 0.7450802709821657,\n",
       " 0.753827733155468,\n",
       " 0.7622750298815211,\n",
       " 0.7704324612100919,\n",
       " 0.778309973749117,\n",
       " 0.7859171727929084,\n",
       " 0.7932633340341855,\n",
       " 0.8003574148742137,\n",
       " 0.8072080653448407,\n",
       " 0.8138236386557468,\n",
       " 0.8202122013797719,\n",
       " 0.826381543288737,\n",
       " 0.8323391868517532,\n",
       " 0.8380923964076006,\n",
       " 0.843648187022361,\n",
       " 0.849013333043105,\n",
       " 0.8541943763580618,\n",
       " 0.8591976343733463,\n",
       " 0.864029207715967,\n",
       " 0.8686949876725092,\n",
       " 0.8732006633725621,\n",
       " 0.8775517287256511,\n",
       " 0.881753489120131,\n",
       " 0.8858110678922091,\n",
       " 0.8897294125729883,\n",
       " 0.8935133009211442,\n",
       " 0.8971673467485937,\n",
       " 0.9006960055462581,\n",
       " 0.9041035799167816,\n",
       " 0.9073942248208267,\n",
       " 0.9105719526433464,\n",
       " 0.9136406380860094,\n",
       " 0.916604022891743,\n",
       " 0.919465720407156,\n",
       " 0.9222292199884037,\n",
       " 0.924897891255868,\n",
       " 0.927474988202839,\n",
       " 0.9299636531632102,\n",
       " 0.9323669206430224,\n",
       " 0.9346877210205315,\n",
       " 0.9369288841193089,\n",
       " 0.9390931426587322,\n",
       " 0.9411831355860754]"
      ]
     },
     "execution_count": 11,
     "metadata": {},
     "output_type": "execute_result"
    }
   ],
   "source": [
    "consecutive_losses"
   ]
  },
  {
   "cell_type": "code",
   "execution_count": 12,
   "metadata": {
    "collapsed": true
   },
   "outputs": [],
   "source": [
    "full_games = np.arange(1,83)"
   ]
  },
  {
   "cell_type": "code",
   "execution_count": 13,
   "metadata": {
    "collapsed": false
   },
   "outputs": [
    {
     "data": {
      "image/png": "[encoded data removed]",
      "text/plain": [
       "<matplotlib.figure.Figure at 0x7be55c0>"
      ]
     },
     "metadata": {},
     "output_type": "display_data"
    }
   ],
   "source": [
    "import matplotlib.pyplot as plt\n",
    "%matplotlib inline\n",
    "z = np.polyfit(full_games, consecutive_losses, 3)\n",
    "p = np.poly1d(z)\n",
    "xp = np.linspace(1, 82, 82)\n",
    "_ = plt.plot(full_games, consecutive_losses, '.', xp, p(xp), '-',)\n",
    "plt.ylim(0,1)\n",
    "plt.show()"
   ]
  },
  {
   "cell_type": "code",
   "execution_count": 15,
   "metadata": {
    "collapsed": false
   },
   "outputs": [
    {
     "data": {
      "text/plain": [
       "0.9411831355860754"
      ]
     },
     "execution_count": 15,
     "metadata": {},
     "output_type": "execute_result"
    }
   ],
   "source": [
    "# Game 82 probability\n",
    "consecutive_losses[81]"
   ]
  }
 ],
 "metadata": {
  "kernelspec": {
   "display_name": "Python 3",
   "language": "python",
   "name": "python3"
  },
  "language_info": {
   "codemirror_mode": {
    "name": "ipython",
    "version": 3
   },
   "file_extension": ".py",
   "mimetype": "text/x-python",
   "name": "python",
   "nbconvert_exporter": "python",
   "pygments_lexer": "ipython3",
   "version": "3.6.0"
  }
 },
 "nbformat": 4,
 "nbformat_minor": 2
}
