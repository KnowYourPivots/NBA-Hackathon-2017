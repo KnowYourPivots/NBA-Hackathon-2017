{
 "cells": [
  {
   "cell_type": "code",
   "execution_count": 68,
   "metadata": {
    "collapsed": false
   },
   "outputs": [
    {
     "data": {
      "text/plain": [
       "array([  1.,   2.,   3.,   4.,   5.,   6.,   7.,   8.,   9.,  10.,  11.,\n",
       "        12.,  13.,  14.,  15.,  16.,  17.,  18.,  19.,  20.,  21.,  22.,\n",
       "        23.,  24.,  25.])"
      ]
     },
     "execution_count": 68,
     "metadata": {},
     "output_type": "execute_result"
    }
   ],
   "source": [
    "# Brute force method to calculate all the probabilities of two losses in a row based on number of games\n",
    "import itertools\n",
    "import numpy as np\n",
    "\n",
    "# Create an array of games to iterate over. the amount of combinations is 2^n where n is the number of games played\n",
    "# 2^82 is beyond computability so a curve will be created based off the first 25 games to predict the probability at game 82\n",
    "games = np.linspace(1,25,25)\n",
    "consecutive_losses = []\n",
    "games"
   ]
  },
  {
   "cell_type": "code",
   "execution_count": 69,
   "metadata": {
    "collapsed": true
   },
   "outputs": [],
   "source": [
    "# calculate the probability of getting two losses in a row for the number of games\n",
    "for value in games:\n",
    "    percent = 0\n",
    "    # Create all the possible combinations based on the number of games\n",
    "    toss3 = map(''.join, itertools.product('WL', repeat=int(value)))\n",
    "    toss3_pairs = list(itertools.product(toss3, repeat=1))\n",
    "    for i in toss3_pairs:\n",
    "        # check if there are atleast two losses in a row in each combination\n",
    "        if 'LL' in i[0]:\n",
    "            percent = percent + (0.2 ** i[0].count('L') * 0.8**(int(value) - i[0].count('L')))\n",
    "    consecutive_losses.append(percent)"
   ]
  },
  {
   "cell_type": "code",
   "execution_count": 70,
   "metadata": {
    "collapsed": false
   },
   "outputs": [
    {
     "data": {
      "text/plain": [
       "[0,\n",
       " 0.04000000000000001,\n",
       " 0.07200000000000002,\n",
       " 0.10400000000000005,\n",
       " 0.13472000000000006,\n",
       " 0.164416,\n",
       " 0.19308799999999998,\n",
       " 0.2207769599999998,\n",
       " 0.24751564800000053,\n",
       " 0.27333683200000153,\n",
       " 0.29827196927999955,\n",
       " 0.32235146854400865,\n",
       " 0.34560468992000665,\n",
       " 0.3680599869030047,\n",
       " 0.3897447399097213,\n",
       " 0.41068538983228836,\n",
       " 0.43090747025085435,\n",
       " 0.45043563857313085,\n",
       " 0.4692937060989997,\n",
       " 0.487504667050909,\n",
       " 0.5050907266065999,\n",
       " 0.5220733280115881,\n",
       " 0.5384731786877988,\n",
       " 0.5543102753989403,\n",
       " 0.5696039288587443]"
      ]
     },
     "execution_count": 70,
     "metadata": {},
     "output_type": "execute_result"
    }
   ],
   "source": [
    "consecutive_losses"
   ]
  },
  {
   "cell_type": "code",
   "execution_count": 71,
   "metadata": {
    "collapsed": false
   },
   "outputs": [],
   "source": [
    "# we are aware that eventually as n-> infinity, the probability of consecutive losses has to -> 1\n",
    "# hard code a big number of games value with corresponding probability value of 1\n",
    "game = list(games)\n",
    "game.append(1000.)\n",
    "consecutive_losses.append(1)"
   ]
  },
  {
   "cell_type": "code",
   "execution_count": 73,
   "metadata": {
    "collapsed": false
   },
   "outputs": [
    {
     "data": {
      "image/png": "[encoded data removed]",
      "text/plain": [
       "<matplotlib.figure.Figure at 0x213b0a20>"
      ]
     },
     "metadata": {},
     "output_type": "display_data"
    },
    {
     "data": {
      "image/png": "[encoded data removed]",
      "text/plain": [
       "<matplotlib.figure.Figure at 0x7524f60>"
      ]
     },
     "metadata": {},
     "output_type": "display_data"
    }
   ],
   "source": [
    "plt.plot(game,consecutive_losses, '-')\n",
    "plt.show()\n",
    "\n",
    "from scipy.interpolate import spline\n",
    "\n",
    "xnew = np.linspace(1,82,1000) #300 represents number of points to make between T.min and T.max\n",
    "\n",
    "power_smooth = spline(game,consecutive_losses,xnew)\n",
    "\n",
    "plt.plot(xnew,power_smooth)\n",
    "plt.show()"
   ]
  },
  {
   "cell_type": "code",
   "execution_count": null,
   "metadata": {
    "collapsed": true
   },
   "outputs": [],
   "source": [
    "#Using the curve, we can estimate that at game 82 the probability will be around 80%"
   ]
  }
 ],
 "metadata": {
  "kernelspec": {
   "display_name": "Python 3",
   "language": "python",
   "name": "python3"
  },
  "language_info": {
   "codemirror_mode": {
    "name": "ipython",
    "version": 3
   },
   "file_extension": ".py",
   "mimetype": "text/x-python",
   "name": "python",
   "nbconvert_exporter": "python",
   "pygments_lexer": "ipython3",
   "version": "3.6.0"
  }
 },
 "nbformat": 4,
 "nbformat_minor": 2
}
